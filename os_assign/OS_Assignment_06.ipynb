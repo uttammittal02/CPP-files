{
 "cells": [
  {
   "cell_type": "markdown",
   "id": "dc146d18",
   "metadata": {},
   "source": [
    "# Operating System Assignment- 06 "
   ]
  },
  {
   "cell_type": "code",
   "execution_count": 1,
   "id": "cdae0499",
   "metadata": {},
   "outputs": [],
   "source": [
    "import numpy as np\n",
    "import pandas as pd "
   ]
  },
  {
   "cell_type": "markdown",
   "id": "9f31e9ca",
   "metadata": {},
   "source": [
    "## Entering relevant data"
   ]
  },
  {
   "cell_type": "code",
   "execution_count": 23,
   "id": "08c7d246",
   "metadata": {},
   "outputs": [],
   "source": [
    "data = [['P0',0,1,0,7,5,3], ['P1',2,0,0,3,2,2], ['P2',3,0,2,9,0,2], ['P3',2,1,1,2,2,2], ['P4',0,0,2,4,3,3]]"
   ]
  },
  {
   "cell_type": "code",
   "execution_count": 28,
   "id": "2ef84f41",
   "metadata": {},
   "outputs": [
    {
     "data": {
      "text/html": [
       "<div>\n",
       "<style scoped>\n",
       "    .dataframe tbody tr th:only-of-type {\n",
       "        vertical-align: middle;\n",
       "    }\n",
       "\n",
       "    .dataframe tbody tr th {\n",
       "        vertical-align: top;\n",
       "    }\n",
       "\n",
       "    .dataframe thead th {\n",
       "        text-align: right;\n",
       "    }\n",
       "</style>\n",
       "<table border=\"1\" class=\"dataframe\">\n",
       "  <thead>\n",
       "    <tr style=\"text-align: right;\">\n",
       "      <th></th>\n",
       "      <th>Process Name</th>\n",
       "      <th>Alloc-A</th>\n",
       "      <th>Alloc-B</th>\n",
       "      <th>Alloc-C</th>\n",
       "      <th>Max-A</th>\n",
       "      <th>Max-B</th>\n",
       "      <th>Max-C</th>\n",
       "    </tr>\n",
       "  </thead>\n",
       "  <tbody>\n",
       "    <tr>\n",
       "      <th>0</th>\n",
       "      <td>P0</td>\n",
       "      <td>0</td>\n",
       "      <td>1</td>\n",
       "      <td>0</td>\n",
       "      <td>7</td>\n",
       "      <td>5</td>\n",
       "      <td>3</td>\n",
       "    </tr>\n",
       "    <tr>\n",
       "      <th>1</th>\n",
       "      <td>P1</td>\n",
       "      <td>2</td>\n",
       "      <td>0</td>\n",
       "      <td>0</td>\n",
       "      <td>3</td>\n",
       "      <td>2</td>\n",
       "      <td>2</td>\n",
       "    </tr>\n",
       "    <tr>\n",
       "      <th>2</th>\n",
       "      <td>P2</td>\n",
       "      <td>3</td>\n",
       "      <td>0</td>\n",
       "      <td>2</td>\n",
       "      <td>9</td>\n",
       "      <td>0</td>\n",
       "      <td>2</td>\n",
       "    </tr>\n",
       "    <tr>\n",
       "      <th>3</th>\n",
       "      <td>P3</td>\n",
       "      <td>2</td>\n",
       "      <td>1</td>\n",
       "      <td>1</td>\n",
       "      <td>2</td>\n",
       "      <td>2</td>\n",
       "      <td>2</td>\n",
       "    </tr>\n",
       "    <tr>\n",
       "      <th>4</th>\n",
       "      <td>P4</td>\n",
       "      <td>0</td>\n",
       "      <td>0</td>\n",
       "      <td>2</td>\n",
       "      <td>4</td>\n",
       "      <td>3</td>\n",
       "      <td>3</td>\n",
       "    </tr>\n",
       "  </tbody>\n",
       "</table>\n",
       "</div>"
      ],
      "text/plain": [
       "  Process Name  Alloc-A  Alloc-B  Alloc-C  Max-A  Max-B  Max-C\n",
       "0           P0        0        1        0      7      5      3\n",
       "1           P1        2        0        0      3      2      2\n",
       "2           P2        3        0        2      9      0      2\n",
       "3           P3        2        1        1      2      2      2\n",
       "4           P4        0        0        2      4      3      3"
      ]
     },
     "execution_count": 28,
     "metadata": {},
     "output_type": "execute_result"
    }
   ],
   "source": [
    "df = pd.DataFrame(data, columns = ['Process Name', 'Alloc-A', 'Alloc-B', 'Alloc-C', 'Max-A', 'Max-B', 'Max-C'])\n",
    "df"
   ]
  },
  {
   "cell_type": "code",
   "execution_count": 29,
   "id": "e9a5a5f0",
   "metadata": {},
   "outputs": [],
   "source": [
    "df.to_csv('Problem_Table.csv')"
   ]
  },
  {
   "cell_type": "markdown",
   "id": "7c1f5429",
   "metadata": {},
   "source": [
    "## Required Resources"
   ]
  },
  {
   "cell_type": "code",
   "execution_count": 31,
   "id": "306a908e",
   "metadata": {},
   "outputs": [
    {
     "data": {
      "text/plain": [
       "[7, 1, 6, 0, 4]"
      ]
     },
     "execution_count": 31,
     "metadata": {},
     "output_type": "execute_result"
    }
   ],
   "source": [
    "need_a = []\n",
    "for i in range(0, 5):\n",
    "    need_a.append(df['Max-A'][i] - df['Alloc-A'][i])\n",
    "need_a"
   ]
  },
  {
   "cell_type": "code",
   "execution_count": 32,
   "id": "247a694e",
   "metadata": {},
   "outputs": [
    {
     "data": {
      "text/plain": [
       "[4, 2, 0, 1, 3]"
      ]
     },
     "execution_count": 32,
     "metadata": {},
     "output_type": "execute_result"
    }
   ],
   "source": [
    "need_b = []\n",
    "for i in range(0, 5):\n",
    "    need_b.append(df['Max-B'][i] - df['Alloc-B'][i])\n",
    "need_b"
   ]
  },
  {
   "cell_type": "code",
   "execution_count": 7,
   "id": "c9c50152",
   "metadata": {},
   "outputs": [
    {
     "data": {
      "text/plain": [
       "[3, 2, 0, 1, 1]"
      ]
     },
     "execution_count": 7,
     "metadata": {},
     "output_type": "execute_result"
    }
   ],
   "source": [
    "need_c = []\n",
    "for i in range(0, 5):\n",
    "    need_c.append(df['Max-C'][i] - df['Allocation-C'][i])\n",
    "need_c"
   ]
  },
  {
   "cell_type": "code",
   "execution_count": 34,
   "id": "408f4519",
   "metadata": {},
   "outputs": [],
   "source": [
    "newdf = df"
   ]
  },
  {
   "cell_type": "code",
   "execution_count": 35,
   "id": "4a5ec70f",
   "metadata": {},
   "outputs": [
    {
     "data": {
      "text/html": [
       "<div>\n",
       "<style scoped>\n",
       "    .dataframe tbody tr th:only-of-type {\n",
       "        vertical-align: middle;\n",
       "    }\n",
       "\n",
       "    .dataframe tbody tr th {\n",
       "        vertical-align: top;\n",
       "    }\n",
       "\n",
       "    .dataframe thead th {\n",
       "        text-align: right;\n",
       "    }\n",
       "</style>\n",
       "<table border=\"1\" class=\"dataframe\">\n",
       "  <thead>\n",
       "    <tr style=\"text-align: right;\">\n",
       "      <th></th>\n",
       "      <th>Process Name</th>\n",
       "      <th>Alloc-A</th>\n",
       "      <th>Alloc-B</th>\n",
       "      <th>Alloc-C</th>\n",
       "      <th>Max-A</th>\n",
       "      <th>Max-B</th>\n",
       "      <th>Max-C</th>\n",
       "      <th>Need-A</th>\n",
       "      <th>Need-B</th>\n",
       "      <th>Need-C</th>\n",
       "    </tr>\n",
       "  </thead>\n",
       "  <tbody>\n",
       "    <tr>\n",
       "      <th>0</th>\n",
       "      <td>P0</td>\n",
       "      <td>0</td>\n",
       "      <td>1</td>\n",
       "      <td>0</td>\n",
       "      <td>7</td>\n",
       "      <td>5</td>\n",
       "      <td>3</td>\n",
       "      <td>7</td>\n",
       "      <td>4</td>\n",
       "      <td>3</td>\n",
       "    </tr>\n",
       "    <tr>\n",
       "      <th>1</th>\n",
       "      <td>P1</td>\n",
       "      <td>2</td>\n",
       "      <td>0</td>\n",
       "      <td>0</td>\n",
       "      <td>3</td>\n",
       "      <td>2</td>\n",
       "      <td>2</td>\n",
       "      <td>1</td>\n",
       "      <td>2</td>\n",
       "      <td>2</td>\n",
       "    </tr>\n",
       "    <tr>\n",
       "      <th>2</th>\n",
       "      <td>P2</td>\n",
       "      <td>3</td>\n",
       "      <td>0</td>\n",
       "      <td>2</td>\n",
       "      <td>9</td>\n",
       "      <td>0</td>\n",
       "      <td>2</td>\n",
       "      <td>6</td>\n",
       "      <td>0</td>\n",
       "      <td>0</td>\n",
       "    </tr>\n",
       "    <tr>\n",
       "      <th>3</th>\n",
       "      <td>P3</td>\n",
       "      <td>2</td>\n",
       "      <td>1</td>\n",
       "      <td>1</td>\n",
       "      <td>2</td>\n",
       "      <td>2</td>\n",
       "      <td>2</td>\n",
       "      <td>0</td>\n",
       "      <td>1</td>\n",
       "      <td>1</td>\n",
       "    </tr>\n",
       "    <tr>\n",
       "      <th>4</th>\n",
       "      <td>P4</td>\n",
       "      <td>0</td>\n",
       "      <td>0</td>\n",
       "      <td>2</td>\n",
       "      <td>4</td>\n",
       "      <td>3</td>\n",
       "      <td>3</td>\n",
       "      <td>4</td>\n",
       "      <td>3</td>\n",
       "      <td>1</td>\n",
       "    </tr>\n",
       "  </tbody>\n",
       "</table>\n",
       "</div>"
      ],
      "text/plain": [
       "  Process Name  Alloc-A  Alloc-B  Alloc-C  Max-A  Max-B  Max-C  Need-A  \\\n",
       "0           P0        0        1        0      7      5      3       7   \n",
       "1           P1        2        0        0      3      2      2       1   \n",
       "2           P2        3        0        2      9      0      2       6   \n",
       "3           P3        2        1        1      2      2      2       0   \n",
       "4           P4        0        0        2      4      3      3       4   \n",
       "\n",
       "   Need-B  Need-C  \n",
       "0       4       3  \n",
       "1       2       2  \n",
       "2       0       0  \n",
       "3       1       1  \n",
       "4       3       1  "
      ]
     },
     "execution_count": 35,
     "metadata": {},
     "output_type": "execute_result"
    }
   ],
   "source": [
    "newdf.insert(7, 'Need-A', need_a)\n",
    "newdf.insert(8, 'Need-B', need_b)\n",
    "newdf.insert(9, 'Need-C', need_c)\n",
    "newdf"
   ]
  },
  {
   "cell_type": "code",
   "execution_count": 36,
   "id": "d2e5d594",
   "metadata": {},
   "outputs": [],
   "source": [
    "newdf.to_csv('Complete_Table.csv')"
   ]
  },
  {
   "cell_type": "markdown",
   "id": "73a1bc30",
   "metadata": {},
   "source": [
    "## Processes and Resources Allocation co-relation"
   ]
  },
  {
   "cell_type": "code",
   "execution_count": 37,
   "id": "ac783b71",
   "metadata": {},
   "outputs": [],
   "source": [
    "available = [3,3,2]\n",
    "available_history = []\n",
    "sequence = []\n",
    "idxs = []\n",
    "processes = ['P0', 'P1', 'P2', 'P3', 'P4']"
   ]
  },
  {
   "cell_type": "markdown",
   "id": "92d455e7",
   "metadata": {},
   "source": [
    "### Processes P1, P3 can be executed initally"
   ]
  },
  {
   "cell_type": "code",
   "execution_count": 38,
   "id": "862f5c62",
   "metadata": {},
   "outputs": [
    {
     "data": {
      "text/plain": [
       "['P1', 'P3']"
      ]
     },
     "execution_count": 38,
     "metadata": {},
     "output_type": "execute_result"
    }
   ],
   "source": [
    "for i in range(0, len(processes)):\n",
    "    if (newdf['Need-A'][i] <= available[0] and newdf['Need-B'][i] <= available[1] and newdf['Need-C'][i] <= available[2]):\n",
    "        sequence.append(processes[i])\n",
    "        idxs.append(i)\n",
    "\n",
    "sequence            "
   ]
  },
  {
   "cell_type": "markdown",
   "id": "2e672631",
   "metadata": {},
   "source": [
    "### Updating the availalble resources"
   ]
  },
  {
   "cell_type": "code",
   "execution_count": 39,
   "id": "52a5f2f6",
   "metadata": {},
   "outputs": [
    {
     "data": {
      "text/plain": [
       "[5, 3, 2]"
      ]
     },
     "execution_count": 39,
     "metadata": {},
     "output_type": "execute_result"
    }
   ],
   "source": [
    "for i in range(0, 3):\n",
    "    available[i] += newdf[newdf.columns[i + 1]][idxs[0]]\n",
    "\n",
    "available"
   ]
  },
  {
   "cell_type": "markdown",
   "id": "52cefd8f",
   "metadata": {},
   "source": [
    "### P4 can be executed now"
   ]
  },
  {
   "cell_type": "code",
   "execution_count": 40,
   "id": "74d37266",
   "metadata": {},
   "outputs": [
    {
     "data": {
      "text/plain": [
       "['P1', 'P3', 'P4']"
      ]
     },
     "execution_count": 40,
     "metadata": {},
     "output_type": "execute_result"
    }
   ],
   "source": [
    "for i in range(0, len(processes)):\n",
    "    if (newdf['Need-A'][i] <= available[0] and newdf['Need-B'][i] <= available[1] and newdf['Need-C'][i] <= available[2] and (i not in idxs)):\n",
    "        sequence.append(processes[i])\n",
    "        idxs.append(i)\n",
    "\n",
    "sequence"
   ]
  },
  {
   "cell_type": "markdown",
   "id": "6c019f77",
   "metadata": {},
   "source": [
    "### Updating the available resources"
   ]
  },
  {
   "cell_type": "code",
   "execution_count": 41,
   "id": "3a5b7c3f",
   "metadata": {},
   "outputs": [
    {
     "data": {
      "text/plain": [
       "[7, 4, 3]"
      ]
     },
     "execution_count": 41,
     "metadata": {},
     "output_type": "execute_result"
    }
   ],
   "source": [
    "for i in range(0, 3):\n",
    "    available[i] += newdf[newdf.columns[i + 1]][idxs[1]]\n",
    "\n",
    "available"
   ]
  },
  {
   "cell_type": "markdown",
   "id": "5dcb7fde",
   "metadata": {},
   "source": [
    "### P0 and P2 can be executed now "
   ]
  },
  {
   "cell_type": "code",
   "execution_count": 42,
   "id": "e6100e3d",
   "metadata": {},
   "outputs": [
    {
     "data": {
      "text/plain": [
       "['P1', 'P3', 'P4', 'P0', 'P2']"
      ]
     },
     "execution_count": 42,
     "metadata": {},
     "output_type": "execute_result"
    }
   ],
   "source": [
    "for i in range(0, len(processes)):\n",
    "    if (newdf['Need-A'][i] <= available[0] and newdf['Need-B'][i] <= available[1] and newdf['Need-C'][i] <= available[2] and (i not in idxs)):\n",
    "        sequence.append(processes[i])\n",
    "        idxs.append(i)\n",
    "\n",
    "sequence"
   ]
  },
  {
   "cell_type": "markdown",
   "id": "99c2439f",
   "metadata": {},
   "source": [
    "### Updating the available resources"
   ]
  },
  {
   "cell_type": "code",
   "execution_count": 43,
   "id": "e517540c",
   "metadata": {},
   "outputs": [
    {
     "data": {
      "text/plain": [
       "[7, 4, 5]"
      ]
     },
     "execution_count": 43,
     "metadata": {},
     "output_type": "execute_result"
    }
   ],
   "source": [
    "for i in range(0, 3):\n",
    "    available[i] += newdf[newdf.columns[i + 1]][idxs[2]]\n",
    "\n",
    "available"
   ]
  },
  {
   "cell_type": "code",
   "execution_count": 44,
   "id": "069da536",
   "metadata": {},
   "outputs": [
    {
     "data": {
      "text/plain": [
       "[7, 5, 5]"
      ]
     },
     "execution_count": 44,
     "metadata": {},
     "output_type": "execute_result"
    }
   ],
   "source": [
    "for i in range(0, 3):\n",
    "    available[i] += newdf[newdf.columns[i + 1]][idxs[3]]\n",
    "    \n",
    "available"
   ]
  },
  {
   "cell_type": "code",
   "execution_count": 45,
   "id": "3988d7a1",
   "metadata": {},
   "outputs": [
    {
     "data": {
      "text/plain": [
       "[10, 5, 7]"
      ]
     },
     "execution_count": 45,
     "metadata": {},
     "output_type": "execute_result"
    }
   ],
   "source": [
    "for i in range(0, 3):\n",
    "    available[i] += newdf[newdf.columns[i + 1]][idxs[4]]\n",
    "\n",
    "available"
   ]
  },
  {
   "cell_type": "code",
   "execution_count": 46,
   "id": "16ed8c71",
   "metadata": {},
   "outputs": [],
   "source": [
    "result_data = [['Initial', 3, 3, 2], [sequence[0], 5, 3, 2], [sequence[1], 7, 4, 3], [sequence[2], 7, 4, 5], [sequence[3], 7, 5, 5], [sequence[4], 10, 5, 7]]"
   ]
  },
  {
   "cell_type": "code",
   "execution_count": 47,
   "id": "cdb606bd",
   "metadata": {},
   "outputs": [
    {
     "data": {
      "text/html": [
       "<div>\n",
       "<style scoped>\n",
       "    .dataframe tbody tr th:only-of-type {\n",
       "        vertical-align: middle;\n",
       "    }\n",
       "\n",
       "    .dataframe tbody tr th {\n",
       "        vertical-align: top;\n",
       "    }\n",
       "\n",
       "    .dataframe thead th {\n",
       "        text-align: right;\n",
       "    }\n",
       "</style>\n",
       "<table border=\"1\" class=\"dataframe\">\n",
       "  <thead>\n",
       "    <tr style=\"text-align: right;\">\n",
       "      <th></th>\n",
       "      <th>Execution Sequence</th>\n",
       "      <th>Available-A</th>\n",
       "      <th>Available-B</th>\n",
       "      <th>Available-C</th>\n",
       "    </tr>\n",
       "  </thead>\n",
       "  <tbody>\n",
       "    <tr>\n",
       "      <th>0</th>\n",
       "      <td>Initial</td>\n",
       "      <td>3</td>\n",
       "      <td>3</td>\n",
       "      <td>2</td>\n",
       "    </tr>\n",
       "    <tr>\n",
       "      <th>1</th>\n",
       "      <td>P1</td>\n",
       "      <td>5</td>\n",
       "      <td>3</td>\n",
       "      <td>2</td>\n",
       "    </tr>\n",
       "    <tr>\n",
       "      <th>2</th>\n",
       "      <td>P3</td>\n",
       "      <td>7</td>\n",
       "      <td>4</td>\n",
       "      <td>3</td>\n",
       "    </tr>\n",
       "    <tr>\n",
       "      <th>3</th>\n",
       "      <td>P4</td>\n",
       "      <td>7</td>\n",
       "      <td>4</td>\n",
       "      <td>5</td>\n",
       "    </tr>\n",
       "    <tr>\n",
       "      <th>4</th>\n",
       "      <td>P0</td>\n",
       "      <td>7</td>\n",
       "      <td>5</td>\n",
       "      <td>5</td>\n",
       "    </tr>\n",
       "    <tr>\n",
       "      <th>5</th>\n",
       "      <td>P2</td>\n",
       "      <td>10</td>\n",
       "      <td>5</td>\n",
       "      <td>7</td>\n",
       "    </tr>\n",
       "  </tbody>\n",
       "</table>\n",
       "</div>"
      ],
      "text/plain": [
       "  Execution Sequence  Available-A  Available-B  Available-C\n",
       "0            Initial            3            3            2\n",
       "1                 P1            5            3            2\n",
       "2                 P3            7            4            3\n",
       "3                 P4            7            4            5\n",
       "4                 P0            7            5            5\n",
       "5                 P2           10            5            7"
      ]
     },
     "execution_count": 47,
     "metadata": {},
     "output_type": "execute_result"
    }
   ],
   "source": [
    "resultdf = pd.DataFrame(result_data, columns = ['Execution Sequence', 'Available-A', 'Available-B', 'Available-C'])\n",
    "resultdf"
   ]
  },
  {
   "cell_type": "code",
   "execution_count": 48,
   "id": "adf213d5",
   "metadata": {},
   "outputs": [],
   "source": [
    "resultdf.to_csv('Result_Table.csv')"
   ]
  },
  {
   "cell_type": "code",
   "execution_count": null,
   "id": "0080d848",
   "metadata": {},
   "outputs": [],
   "source": []
  }
 ],
 "metadata": {
  "kernelspec": {
   "display_name": "Python 3 (ipykernel)",
   "language": "python",
   "name": "python3"
  },
  "language_info": {
   "codemirror_mode": {
    "name": "ipython",
    "version": 3
   },
   "file_extension": ".py",
   "mimetype": "text/x-python",
   "name": "python",
   "nbconvert_exporter": "python",
   "pygments_lexer": "ipython3",
   "version": "3.8.8"
  }
 },
 "nbformat": 4,
 "nbformat_minor": 5
}
